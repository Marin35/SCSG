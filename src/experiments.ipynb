{
 "cells": [
  {
   "cell_type": "markdown",
   "metadata": {},
   "source": [
    "> **Kossi Neroma**  \n",
    "**Marin Bouthemy**"
   ]
  },
  {
   "cell_type": "code",
   "execution_count": null,
   "metadata": {},
   "outputs": [],
   "source": []
  },
  {
   "cell_type": "markdown",
   "metadata": {},
   "source": [
    "<h1 style=\"text-align: center;\">Non-Convex Finite-Sum Optimization Via SCSG Methods</h1>"
   ]
  },
  {
   "cell_type": "markdown",
   "metadata": {},
   "source": [
    ">**The paper** : [Non-Convex Finite-Sum Optimization Via SCSG Methods](https://arxiv.org/abs/1706.09156)\n",
    "\n",
    ">Here, we will be applying [SCSG]((https://arxiv.org/abs/1706.09156)) to convex/non convex optimization problems, mainly a neural network loss function. <br> <br> \n",
    "The first example, even if modelised as a neural network is just a logistic regression (two layer perceptron) which lost function is clearly convex.<br> <br>\n",
    "The second one concerns a deeper neural network and here the cost function is no more convex. Can our algorithm find the  optimal solution and thus make us get the best ever accuracy ? Let's  see ..."
   ]
  },
  {
   "cell_type": "code",
   "execution_count": 1,
   "metadata": {},
   "outputs": [],
   "source": [
    "import tensorflow as tf, numpy as np, pandas as pd\n",
    "\n",
    "from models import SGD, SCSG # two objects that implements, respectively, the Stochastic Dradient Descent algorithm (SGD)\n",
    "                            # and the stochastically controlled stochastic gradient (SCSG)\n",
    "from matplotlib import pyplot as plt\n",
    "    \n",
    "import importlib, models\n",
    "importlib.reload(models)\n",
    "from models import SGD, SCSG # Our implementations of the SGD and SCSG algorithm\n"
   ]
  },
  {
   "cell_type": "code",
   "execution_count": null,
   "metadata": {},
   "outputs": [],
   "source": []
  },
  {
   "cell_type": "markdown",
   "metadata": {},
   "source": [
    "# ... Laod the data\n",
    "> Our toy dataset would be the **mnist** one. This is a classical database of *70 000 handwritten digits*. Let's recall that this dataset is natively avaialable in tensorflow, our main library for gradient computing (**automatic differenciation**) and neural network modeling. The goal consists in predicting the written character given it's scan."
   ]
  },
  {
   "cell_type": "code",
   "execution_count": 2,
   "metadata": {},
   "outputs": [
    {
     "data": {
      "text/plain": [
       "((60000, 784), (10000, 784), (60000, 10), (10000, 10))"
      ]
     },
     "execution_count": 2,
     "metadata": {},
     "output_type": "execute_result"
    }
   ],
   "source": [
    "mnist = tf.keras.datasets.mnist\n",
    "\n",
    "(x_train, y_train),(x_test, y_test) = mnist.load_data()\n",
    "x_train, x_test = x_train / 255.0, x_test / 255.0\n",
    "\n",
    "def one_hot(x):\n",
    "    v = np.zeros((len(x), x.max() +1))\n",
    "    v[np.arange(len(x)), x] = 1\n",
    "    return v\n",
    "\n",
    "\n",
    "y_train, y_test = one_hot(y_train), one_hot(y_test)\n",
    "x_train, x_test = x_train.reshape((-1, 28*28)), x_test.reshape((-1, 28*28))\n",
    "\n",
    "x_train.shape, x_test.shape, y_train.shape, y_test.shape"
   ]
  },
  {
   "cell_type": "markdown",
   "metadata": {},
   "source": [
    "# 1. The convex case\n",
    "> Here, we will be working within the logistic regression framework, ie a single layer perceptron. The objective is the so called softmax function. $softmax(x)_i = \\frac{e^{\\theta_i x_i}}{\\sum_{j= 1}^n e^{\\theta_j x_j}}$"
   ]
  },
  {
   "cell_type": "markdown",
   "metadata": {},
   "source": [
    "###  1.1. Convex case : SGD algorithm"
   ]
  },
  {
   "cell_type": "code",
   "execution_count": 3,
   "metadata": {},
   "outputs": [
    {
     "name": "stdout",
     "output_type": "stream",
     "text": [
      "WARNING:tensorflow:From C:\\Users\\kneroma\\AppData\\Local\\Continuum\\anaconda3\\lib\\site-packages\\tensorflow\\python\\framework\\op_def_library.py:263: colocate_with (from tensorflow.python.framework.ops) is deprecated and will be removed in a future version.\n",
      "Instructions for updating:\n",
      "Colocations handled automatically by placer.\n",
      "WARNING:tensorflow:From C:\\Users\\kneroma\\AppData\\Local\\Continuum\\anaconda3\\lib\\site-packages\\tensorflow\\python\\ops\\losses\\losses_impl.py:209: to_float (from tensorflow.python.ops.math_ops) is deprecated and will be removed in a future version.\n",
      "Instructions for updating:\n",
      "Use tf.cast instead.\n",
      "Epoch: 1 cost = 1.57544 acuracy:  0.908\n",
      "Epoch: 2 cost = 1.56202 acuracy:  0.9177\n",
      "Epoch: 3 cost = 1.55680 acuracy:  0.9189\n",
      "Epoch: 4 cost = 1.55256 acuracy:  0.9201\n",
      "Epoch: 5 cost = 1.55046 acuracy:  0.9217\n",
      "Epoch: 6 cost = 1.54758 acuracy:  0.9235\n",
      "Epoch: 7 cost = 1.54670 acuracy:  0.9241\n",
      "Epoch: 8 cost = 1.54623 acuracy:  0.9245\n",
      "Epoch: 9 cost = 1.54464 acuracy:  0.9248\n",
      "Epoch: 10 cost = 1.54424 acuracy:  0.9251\n"
     ]
    }
   ],
   "source": [
    "sgd = SGD(lr = 0.5, batch = 50, epochs = 10)\n",
    "sgd.archi = [28*28, 10] # One layer perceptron ==> logistic regression, convex objective\n",
    "\n",
    "sgd.fit(x_train, y_train, x_test, y_test)"
   ]
  },
  {
   "cell_type": "code",
   "execution_count": null,
   "metadata": {},
   "outputs": [],
   "source": []
  },
  {
   "cell_type": "code",
   "execution_count": 4,
   "metadata": {},
   "outputs": [
    {
     "data": {
      "text/html": [
       "<div>\n",
       "<style scoped>\n",
       "    .dataframe tbody tr th:only-of-type {\n",
       "        vertical-align: middle;\n",
       "    }\n",
       "\n",
       "    .dataframe tbody tr th {\n",
       "        vertical-align: top;\n",
       "    }\n",
       "\n",
       "    .dataframe thead th {\n",
       "        text-align: right;\n",
       "    }\n",
       "</style>\n",
       "<table border=\"1\" class=\"dataframe\">\n",
       "  <thead>\n",
       "    <tr style=\"text-align: right;\">\n",
       "      <th></th>\n",
       "      <th>loss</th>\n",
       "      <th>time</th>\n",
       "      <th>accuray</th>\n",
       "      <th>duration</th>\n",
       "    </tr>\n",
       "  </thead>\n",
       "  <tbody>\n",
       "    <tr>\n",
       "      <th>0</th>\n",
       "      <td>2.299059</td>\n",
       "      <td>1.558842e+09</td>\n",
       "      <td>0.1144</td>\n",
       "      <td>0.000000</td>\n",
       "    </tr>\n",
       "    <tr>\n",
       "      <th>1</th>\n",
       "      <td>2.086663</td>\n",
       "      <td>1.558842e+09</td>\n",
       "      <td>0.4871</td>\n",
       "      <td>0.057998</td>\n",
       "    </tr>\n",
       "    <tr>\n",
       "      <th>2</th>\n",
       "      <td>1.909066</td>\n",
       "      <td>1.558842e+09</td>\n",
       "      <td>0.6862</td>\n",
       "      <td>0.116999</td>\n",
       "    </tr>\n",
       "    <tr>\n",
       "      <th>3</th>\n",
       "      <td>1.827365</td>\n",
       "      <td>1.558842e+09</td>\n",
       "      <td>0.7632</td>\n",
       "      <td>0.173998</td>\n",
       "    </tr>\n",
       "    <tr>\n",
       "      <th>4</th>\n",
       "      <td>1.787471</td>\n",
       "      <td>1.558842e+09</td>\n",
       "      <td>0.7648</td>\n",
       "      <td>0.232001</td>\n",
       "    </tr>\n",
       "  </tbody>\n",
       "</table>\n",
       "</div>"
      ],
      "text/plain": [
       "       loss          time  accuray  duration\n",
       "0  2.299059  1.558842e+09   0.1144  0.000000\n",
       "1  2.086663  1.558842e+09   0.4871  0.057998\n",
       "2  1.909066  1.558842e+09   0.6862  0.116999\n",
       "3  1.827365  1.558842e+09   0.7632  0.173998\n",
       "4  1.787471  1.558842e+09   0.7648  0.232001"
      ]
     },
     "execution_count": 4,
     "metadata": {},
     "output_type": "execute_result"
    }
   ],
   "source": [
    "df1 = pd.DataFrame({\"loss\": sgd.losses, \"time\": sgd.times, \"accuray\": sgd.accuracies})\n",
    "df1[\"duration\"] = df1.time - df1.time.iloc[0]\n",
    "df1.head()"
   ]
  },
  {
   "cell_type": "code",
   "execution_count": null,
   "metadata": {},
   "outputs": [],
   "source": []
  },
  {
   "cell_type": "markdown",
   "metadata": {},
   "source": [
    "### 1.2. Convex case: SCSG algorithm"
   ]
  },
  {
   "cell_type": "code",
   "execution_count": 6,
   "metadata": {},
   "outputs": [
    {
     "name": "stdout",
     "output_type": "stream",
     "text": [
      "Epoch: 1 cost: 2.27931 acuracy:  0.1918 N: 2\n",
      "Epoch: 26 cost: 1.76038 acuracy:  0.7868 N: 2\n",
      "Epoch: 51 cost: 1.70459 acuracy:  0.8085 N: 2\n",
      "Epoch: 76 cost: 1.68509 acuracy:  0.8151 N: 2\n",
      "Epoch: 101 cost: 1.67463 acuracy:  0.8207 N: 2\n",
      "Epoch: 126 cost: 1.66749 acuracy:  0.8227 N: 2\n",
      "Epoch: 151 cost: 1.66203 acuracy:  0.8258 N: 2\n",
      "Epoch: 176 cost: 1.65828 acuracy:  0.827 N: 2\n",
      "Epoch: 201 cost: 1.65499 acuracy:  0.8295 N: 2\n",
      "Epoch: 226 cost: 1.65240 acuracy:  0.8299 N: 2\n",
      "Epoch: 251 cost: 1.65061 acuracy:  0.8318 N: 2\n",
      "Epoch: 276 cost: 1.64864 acuracy:  0.8323 N: 2\n",
      "Epoch: 301 cost: 1.64716 acuracy:  0.8324 N: 2\n",
      "Epoch: 326 cost: 1.64612 acuracy:  0.8321 N: 2\n",
      "Epoch: 351 cost: 1.64436 acuracy:  0.8338 N: 2\n",
      "Epoch: 376 cost: 1.64330 acuracy:  0.8344 N: 2\n"
     ]
    }
   ],
   "source": [
    "scsg = SCSG(epochs =  400)\n",
    "scsg.archi = [28*28, 10]\n",
    "\n",
    "scsg.fit(x_train, y_train, x_test, y_test,eta = 1.,  B = 512, b = 10)"
   ]
  },
  {
   "cell_type": "code",
   "execution_count": 7,
   "metadata": {},
   "outputs": [
    {
     "data": {
      "text/html": [
       "<div>\n",
       "<style scoped>\n",
       "    .dataframe tbody tr th:only-of-type {\n",
       "        vertical-align: middle;\n",
       "    }\n",
       "\n",
       "    .dataframe tbody tr th {\n",
       "        vertical-align: top;\n",
       "    }\n",
       "\n",
       "    .dataframe thead th {\n",
       "        text-align: right;\n",
       "    }\n",
       "</style>\n",
       "<table border=\"1\" class=\"dataframe\">\n",
       "  <thead>\n",
       "    <tr style=\"text-align: right;\">\n",
       "      <th></th>\n",
       "      <th>loss</th>\n",
       "      <th>time</th>\n",
       "      <th>accuray</th>\n",
       "      <th>duration</th>\n",
       "    </tr>\n",
       "  </thead>\n",
       "  <tbody>\n",
       "    <tr>\n",
       "      <th>0</th>\n",
       "      <td>2.296387</td>\n",
       "      <td>1.558842e+09</td>\n",
       "      <td>0.1453</td>\n",
       "      <td>0.000000</td>\n",
       "    </tr>\n",
       "    <tr>\n",
       "      <th>1</th>\n",
       "      <td>2.279308</td>\n",
       "      <td>1.558842e+09</td>\n",
       "      <td>0.1918</td>\n",
       "      <td>0.061000</td>\n",
       "    </tr>\n",
       "    <tr>\n",
       "      <th>2</th>\n",
       "      <td>2.264212</td>\n",
       "      <td>1.558842e+09</td>\n",
       "      <td>0.1973</td>\n",
       "      <td>0.137000</td>\n",
       "    </tr>\n",
       "    <tr>\n",
       "      <th>3</th>\n",
       "      <td>2.248846</td>\n",
       "      <td>1.558842e+09</td>\n",
       "      <td>0.2166</td>\n",
       "      <td>0.196000</td>\n",
       "    </tr>\n",
       "    <tr>\n",
       "      <th>4</th>\n",
       "      <td>2.231363</td>\n",
       "      <td>1.558842e+09</td>\n",
       "      <td>0.2672</td>\n",
       "      <td>0.263999</td>\n",
       "    </tr>\n",
       "  </tbody>\n",
       "</table>\n",
       "</div>"
      ],
      "text/plain": [
       "       loss          time  accuray  duration\n",
       "0  2.296387  1.558842e+09   0.1453  0.000000\n",
       "1  2.279308  1.558842e+09   0.1918  0.061000\n",
       "2  2.264212  1.558842e+09   0.1973  0.137000\n",
       "3  2.248846  1.558842e+09   0.2166  0.196000\n",
       "4  2.231363  1.558842e+09   0.2672  0.263999"
      ]
     },
     "execution_count": 7,
     "metadata": {},
     "output_type": "execute_result"
    }
   ],
   "source": [
    "df2 = pd.DataFrame({\"loss\": scsg.losses, \"time\": scsg.times, \"accuray\": scsg.accuracies})\n",
    "df2[\"duration\"] = df2.time - df2.time.iloc[0]\n",
    "df2.head()"
   ]
  },
  {
   "cell_type": "code",
   "execution_count": 8,
   "metadata": {},
   "outputs": [
    {
     "data": {
      "text/plain": [
       "((600, 4), (800, 4))"
      ]
     },
     "execution_count": 8,
     "metadata": {},
     "output_type": "execute_result"
    }
   ],
   "source": [
    "df1.shape, df2.shape"
   ]
  },
  {
   "cell_type": "code",
   "execution_count": 9,
   "metadata": {},
   "outputs": [
    {
     "data": {
      "text/plain": [
       "Text(0, 0.5, 'loss')"
      ]
     },
     "execution_count": 9,
     "metadata": {},
     "output_type": "execute_result"
    },
    {
     "data": {
      "image/png": "[encoded data removed]",
      "text/plain": [
       "<Figure size 432x288 with 1 Axes>"
      ]
     },
     "metadata": {
      "needs_background": "light"
     },
     "output_type": "display_data"
    }
   ],
   "source": [
    "plt.plot(df1.duration, df1.loss)\n",
    "plt.plot(df2.duration, df2.loss)\n",
    "plt.title(\"SGD vs SCSG : convex case\")\n",
    "plt.legend([\"SGD\", \"SCSG\"])\n",
    "plt.xlabel(\"time(s)\")\n",
    "plt.ylabel(\"loss\")"
   ]
  },
  {
   "cell_type": "markdown",
   "metadata": {},
   "source": [
    "> As we can see, in our impelmentation, the SCSG algorithm fails to outperform the classical SGD. This result is different from the one in the base paper. Nevertheless, let's recall that we only consider the fixed batch size scheme and this is not the best one for the SCSG algorithm."
   ]
  },
  {
   "cell_type": "code",
   "execution_count": null,
   "metadata": {},
   "outputs": [],
   "source": []
  },
  {
   "cell_type": "markdown",
   "metadata": {},
   "source": [
    "# 2. The non-convex case"
   ]
  },
  {
   "cell_type": "markdown",
   "metadata": {},
   "source": [
    "### 2.1. Non convex case :  SGD algorithm"
   ]
  },
  {
   "cell_type": "code",
   "execution_count": null,
   "metadata": {},
   "outputs": [
    {
     "name": "stdout",
     "output_type": "stream",
     "text": [
      "Epoch: 1 cost = 1.71529 acuracy:  0.7458\n"
     ]
    }
   ],
   "source": [
    "sgd2 = SGD(lr = 0.5, batch = 50, epochs = 30)\n",
    "sgd2.archi = [28*28, 256, 128, 10] # Three layers perceptron ==> non convex objective due to function composition\n",
    "\n",
    "sgd2.fit(x_train, y_train, x_test, y_test)"
   ]
  },
  {
   "cell_type": "code",
   "execution_count": null,
   "metadata": {},
   "outputs": [],
   "source": []
  },
  {
   "cell_type": "markdown",
   "metadata": {},
   "source": [
    "### 2.2. Non convex case :  SCSG algorithm"
   ]
  },
  {
   "cell_type": "code",
   "execution_count": null,
   "metadata": {},
   "outputs": [],
   "source": [
    "scsg2 = SCSG( epochs = 500)\n",
    "scsg2.archi = [28*28, 256, 128, 10] # Three layers perceptron ==> non convex objective due to function composition\n",
    "\n",
    "scsg2.fit(x_train, y_train, x_test, y_test, eta = 0.5, B= 512, b = 10)"
   ]
  },
  {
   "cell_type": "code",
   "execution_count": null,
   "metadata": {},
   "outputs": [],
   "source": []
  },
  {
   "cell_type": "code",
   "execution_count": null,
   "metadata": {},
   "outputs": [],
   "source": []
  },
  {
   "cell_type": "code",
   "execution_count": null,
   "metadata": {},
   "outputs": [],
   "source": [
    "df3 = pd.DataFrame({\"loss\": sgd2.losses, \"time\": sgd2.times, \"accuray\": sgd2.accuracies})\n",
    "df3[\"duration\"] = df3.time - df3.time.iloc[0]\n",
    "\n",
    "df4 = pd.DataFrame({\"loss\": scsg2.losses, \"time\": scsg2.times, \"accuray\": scsg2.accuracies})\n",
    "df4[\"duration\"] = df4.time - df4.time.iloc[0]\n",
    "\n",
    "df3.shape, df4.shape"
   ]
  },
  {
   "cell_type": "code",
   "execution_count": null,
   "metadata": {},
   "outputs": [],
   "source": [
    "plt.plot(df1.duration, df1.loss)\n",
    "plt.plot(df2.duration, df2.loss)\n",
    "plt.title(\"SGD vs SCSG : non-convex case\")\n",
    "plt.legend([\"SGD\", \"SCSG\"])\n",
    "plt.xlabel(\"time(s)\")\n",
    "plt.ylabel(\"loss\")"
   ]
  },
  {
   "cell_type": "markdown",
   "metadata": {},
   "source": [
    "> Here again, the SCSG algorithm fails to outperform the classical SGD. This is quite surprising as it is different form from the conclusion of Lihua & Al. "
   ]
  },
  {
   "cell_type": "code",
   "execution_count": null,
   "metadata": {},
   "outputs": [],
   "source": []
  },
  {
   "cell_type": "markdown",
   "metadata": {},
   "source": [
    "# Conclusion"
   ]
  },
  {
   "cell_type": "markdown",
   "metadata": {},
   "source": [
    "> This project is very educational. Not only did it allow us to deepen our knowledge of Tensorflow and its automatic differentiation framework but also to implement new but very promising algorithm : the stochastically controlled stochastic gradient (SCSG) algorithm.\n",
    "\n",
    "> This algorithm is interresting as it makes less than one pass over the dataset at each epoch  and still, at least theoretically, guarantees nice convergence properties.\n",
    "\n",
    "> Even though we wasn't able to recover the whole results of Lihua & Al., our results show that the newly proposed algorithm performs not so bad and can, likely, give better results if correctly tuned."
   ]
  },
  {
   "cell_type": "code",
   "execution_count": null,
   "metadata": {},
   "outputs": [],
   "source": []
  }
 ],
 "metadata": {
  "kernelspec": {
   "display_name": "Python 3",
   "language": "python",
   "name": "python3"
  },
  "language_info": {
   "codemirror_mode": {
    "name": "ipython",
    "version": 3
   },
   "file_extension": ".py",
   "mimetype": "text/x-python",
   "name": "python",
   "nbconvert_exporter": "python",
   "pygments_lexer": "ipython3",
   "version": "3.7.1"
  }
 },
 "nbformat": 4,
 "nbformat_minor": 2
}
